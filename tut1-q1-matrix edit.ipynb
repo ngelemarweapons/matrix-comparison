{
 "cells": [
  {
   "cell_type": "markdown",
   "metadata": {
    "deletable": false,
    "editable": false,
    "nbgrader": {
     "cell_type": "markdown",
     "checksum": "7a0efb15161a63b33335d7828863398e",
     "grade": false,
     "grade_id": "cell-fe1c2427171877f3",
     "locked": true,
     "schema_version": 3,
     "solution": false,
     "task": false
    }
   },
   "source": [
    "# Complexity of Matrix Operations\n",
    "\n",
    "We will implement different matrix operations by hand, test the implementation and compare the speed with the optimized numpy library. We will also study the computational complexity of these matrix operations, and estimate the performance of our computer."
   ]
  },
  {
   "cell_type": "markdown",
   "metadata": {
    "deletable": false,
    "editable": false,
    "nbgrader": {
     "cell_type": "markdown",
     "checksum": "a265a1bffeda70885d4effb36716f0ec",
     "grade": false,
     "grade_id": "cell-2054a374056d2bbe",
     "locked": true,
     "schema_version": 3,
     "solution": false,
     "task": false
    }
   },
   "source": [
    "## Implementation of Matrix Operations (6 points)\n",
    "\n",
    "Implement the matrix operations $\\mathbf{{x}}^T\\mathbf{{x}}$, $\\mathbf{{A}}\\mathbf{{x}}$, $\\mathbf{{A}}\\mathbf{{A}}$ and $\\mathbf{{x}}^T\\mathbf{{A}}\\mathbf{{x}}$ in Python without using the numpy package. Verify your implementation. "
   ]
  },
  {
   "cell_type": "code",
   "execution_count": 233,
   "metadata": {
    "deletable": false,
    "nbgrader": {
     "cell_type": "code",
     "checksum": "4420b148f82fb9dc9df0b0998dd8eda6",
     "grade": false,
     "grade_id": "x_dot_x",
     "locked": false,
     "schema_version": 3,
     "solution": true,
     "task": false
    }
   },
   "outputs": [],
   "source": [
    "\n",
    "def x_dot_x(x):\n",
    "    # YOUR CODE HERE\n",
    "    ans = 0\n",
    "    for i in range(len(x)):\n",
    "        ans += x[i]*x[i]\n",
    "    return ans"
   ]
  },
  {
   "cell_type": "code",
   "execution_count": 234,
   "metadata": {
    "deletable": false,
    "editable": false,
    "nbgrader": {
     "cell_type": "code",
     "checksum": "bf1460257ab27c57a2f98da08e284055",
     "grade": true,
     "grade_id": "correct_x_dot_x",
     "locked": true,
     "points": 1,
     "schema_version": 3,
     "solution": false,
     "task": false
    }
   },
   "outputs": [],
   "source": [
    "assert( x_dot_x( [1,2] ) == 5)"
   ]
  },
  {
   "cell_type": "code",
   "execution_count": 235,
   "metadata": {
    "deletable": false,
    "nbgrader": {
     "cell_type": "code",
     "checksum": "b20297abc36b4f567ca66a04fd7ccd38",
     "grade": false,
     "grade_id": "A_dot_x",
     "locked": false,
     "schema_version": 3,
     "solution": true,
     "task": false
    }
   },
   "outputs": [],
   "source": [
    "def A_dot_x (A, x):\n",
    "    # YOUR CODE HERE\n",
    "    \n",
    "    # create vector b with zeros\n",
    "    b = []\n",
    "    for p in range(len(x)):\n",
    "        b.append(0)\n",
    "    \n",
    "    # multiply each element with corresponding xi and add to b\n",
    "    for i in range(len(x)):\n",
    "        coeff = x[i]\n",
    "        for j in range (len(A[i])):\n",
    "            anj = A[i][j]\n",
    "            b[j] += coeff*anj\n",
    "    return b"
   ]
  },
  {
   "cell_type": "code",
   "execution_count": 236,
   "metadata": {
    "deletable": false,
    "editable": false,
    "nbgrader": {
     "cell_type": "code",
     "checksum": "6f4506baa894663ea83d8b3069cd7799",
     "grade": true,
     "grade_id": "correct_A_dot_x",
     "locked": true,
     "points": 1,
     "schema_version": 3,
     "solution": false,
     "task": false
    }
   },
   "outputs": [],
   "source": [
    "assert( A_dot_x( [ [1,2], [2,1] ], [0,1] ) == [2,1] )"
   ]
  },
  {
   "cell_type": "code",
   "execution_count": 237,
   "metadata": {
    "deletable": false,
    "nbgrader": {
     "cell_type": "code",
     "checksum": "4af345fcf73406aed35aece891f28436",
     "grade": false,
     "grade_id": "A_dot_A",
     "locked": false,
     "schema_version": 3,
     "solution": true,
     "task": false
    }
   },
   "outputs": [],
   "source": [
    "def A_dot_A (A):\n",
    "    # YOUR CODE HERE\n",
    "    \n",
    "    # create array A2 with zeros\n",
    "    A2 = []\n",
    "    for p in range(len(A)):\n",
    "        A2.append([])\n",
    "        for q in range(len(A[p])):\n",
    "            A2[p].append(0)\n",
    "    \n",
    "    # multiply each element with corresponding xi and add to b\n",
    "    for i in range(len(A)):\n",
    "        for j in range (len(A[i])):\n",
    "            for k in range(len(A)):\n",
    "                A2[i][j] += A[i][k] * A[k][j]\n",
    "    return A2"
   ]
  },
  {
   "cell_type": "code",
   "execution_count": 238,
   "metadata": {
    "deletable": false,
    "editable": false,
    "nbgrader": {
     "cell_type": "code",
     "checksum": "aa1c6dd7588e0644aa09ab7e187ec183",
     "grade": true,
     "grade_id": "correct_A_dot_A",
     "locked": true,
     "points": 2,
     "schema_version": 3,
     "solution": false,
     "task": false
    }
   },
   "outputs": [],
   "source": [
    "assert( A_dot_A( [ [1,1], [2,0] ] ) == [ [3,1], [2,2] ])"
   ]
  },
  {
   "cell_type": "code",
   "execution_count": 239,
   "metadata": {
    "deletable": false,
    "nbgrader": {
     "cell_type": "code",
     "checksum": "3493ab1e3f47e693c98b6456efc965fd",
     "grade": false,
     "grade_id": "x_dot_A_dot_x",
     "locked": false,
     "schema_version": 3,
     "solution": true,
     "task": false
    }
   },
   "outputs": [],
   "source": [
    "def x_dot_A_dot_x (A,x):\n",
    "    # A dot x\n",
    "    Ax = A_dot_x(A, x)\n",
    "    \n",
    "    # x dot Ax\n",
    "    ans = 0\n",
    "    for i in range(len(x)):\n",
    "        ans += x[i]*Ax[i]\n",
    "    return ans"
   ]
  },
  {
   "cell_type": "code",
   "execution_count": 240,
   "metadata": {
    "deletable": false,
    "editable": false,
    "nbgrader": {
     "cell_type": "code",
     "checksum": "02838dadee122e79253ebb77072493bd",
     "grade": true,
     "grade_id": "correct_x_dot_A_dot_x",
     "locked": true,
     "points": 2,
     "schema_version": 3,
     "solution": false,
     "task": false
    }
   },
   "outputs": [],
   "source": [
    "assert( x_dot_A_dot_x( [ [1,0], [0,1] ], [2,1] ) == 5)"
   ]
  },
  {
   "cell_type": "markdown",
   "metadata": {
    "deletable": false,
    "editable": false,
    "nbgrader": {
     "cell_type": "markdown",
     "checksum": "ca0193b3ba4f24d5921d531d39f4d826",
     "grade": false,
     "grade_id": "cell-c45518928db5cab9",
     "locked": true,
     "schema_version": 3,
     "solution": false,
     "task": false
    }
   },
   "source": [
    "## Measurement and Visualization of Run-Time (7 points)\n",
    "\n",
    "For each of the implemented matrix operations, measure the execution\n",
    "time as a function of $n$, up to execution times on the order of one \n",
    "second. Compare the execution times of your implementation with a\n",
    "dedicated matrix library, e.g. the numpy package within python. Plot\n",
    "the execution times for all matrix operations and both\n",
    "implementations."
   ]
  },
  {
   "cell_type": "code",
   "execution_count": 241,
   "metadata": {
    "deletable": false,
    "nbgrader": {
     "cell_type": "code",
     "checksum": "bba29f6f996ad9b5e19907b972f3ede4",
     "grade": true,
     "grade_id": "measure",
     "locked": false,
     "points": 3,
     "schema_version": 3,
     "solution": true,
     "task": false
    }
   },
   "outputs": [
    {
     "data": {
      "image/png": "[encoded data removed]",
      "text/plain": [
       "<Figure size 432x288 with 1 Axes>"
      ]
     },
     "metadata": {
      "needs_background": "light"
     },
     "output_type": "display_data"
    }
   ],
   "source": [
    "# ploting comparison dot product of x_dot_x\n",
    "import matplotlib.pyplot as plt\n",
    "\n",
    "import numpy as np\n",
    "import time\n",
    "\n",
    "\n",
    "# YOUR CODE HERE\n",
    "\n",
    "## x dot x comparison\n",
    "# calc runtimes for x of length 1 to 100 using own method\n",
    "x_lengths = np.arange(1, 100) # 50 000 000\n",
    "xx_periods_ours = []\n",
    "xx_periods_numpy = []\n",
    "for x_len in x_lengths:\n",
    "    \n",
    "    # create vector x\n",
    "    vect = np.arange(1,x_len+1)\n",
    "    \n",
    "    # time the execution of x*x\n",
    "    init = time.time()\n",
    "    b = x_dot_x(vect)\n",
    "    duration = time.time() - init\n",
    "    \n",
    "    xx_periods_ours.append(duration)\n",
    "    \n",
    "    # numpy's runtime\n",
    "    init = time.time()\n",
    "    b = vect.dot(vect)\n",
    "    duration = time.time() - init\n",
    "    \n",
    "    xx_periods_numpy.append(duration)\n",
    "# print(xx_periods_ours)\n",
    "# print(xx_periods_numpy)\n",
    "\n",
    "# plot results\n",
    "\n",
    "# fig, axs = plt.subplots(2)\n",
    "# fig.suptitle('x dot x execution time')\n",
    "# axs[0].plot(x_lengths, xx_periods_ours)\n",
    "# axs[1].plot(x_lengths, xx_periods_numpy)\n",
    "\n",
    "plt.plot(x_lengths, xx_periods_ours, \".\", xx_periods_numpy, \".\")\n",
    "plt.xlabel('Vector length 1xn')\n",
    "plt.ylabel('X dot X execution time (s)')\n",
    "plt.show()"
   ]
  },
  {
   "cell_type": "code",
   "execution_count": 242,
   "metadata": {
    "scrolled": true
   },
   "outputs": [
    {
     "data": {
      "image/png": "[encoded data removed]",
      "text/plain": [
       "<Figure size 432x288 with 1 Axes>"
      ]
     },
     "metadata": {
      "needs_background": "light"
     },
     "output_type": "display_data"
    }
   ],
   "source": [
    "# ploting comparison dot product of A_dot_x\n",
    "\n",
    "# already created x_lengths\n",
    "Ax_periods_ours = []\n",
    "Ax_periods_numpy = []\n",
    "for x_len in x_lengths:\n",
    "    # create vector\n",
    "    vect = np.arange(1,x_len+1)\n",
    "    \n",
    "    # create matrix of same length as vector ( x_len by x_len ) matrix\n",
    "    #A = np.zeros(shape=(x_len, x_len))\n",
    "    ##print(A)\n",
    "    #for i in range(x_len):\n",
    "    #    for j in range(x_len):\n",
    "    #        A[i][j] = i+j\n",
    "    \n",
    "    shape = x_len,x_len # shape of matrix, x_len by x_len matrix\n",
    "    row_len, col_len = np.indices(shape) # rows and column indices\n",
    "    A = ((37.1*(row_len+1) + 91.7*(col_len+1)**2)%20.0)-10.0 # how every element will be calculated using the indices\n",
    "    \n",
    "    \n",
    "    # our custom Ax duration\n",
    "    init = time.time()\n",
    "    b = A_dot_x (A, vect)\n",
    "    duration = time.time() - init\n",
    "    \n",
    "    Ax_periods_ours.append(duration)\n",
    "    \n",
    "    # numpy's Ax duration\n",
    "    init = time.time()\n",
    "    b = A.dot(vect)\n",
    "    duration = time.time() - init\n",
    "    \n",
    "    Ax_periods_numpy.append(duration)\n",
    "\n",
    "plt.plot(x_lengths, Ax_periods_ours, \".\", Ax_periods_numpy, \".\")\n",
    "plt.xlabel('Vector length 1xn')\n",
    "plt.ylabel('A dot x execution time (s)')\n",
    "plt.show()"
   ]
  },
  {
   "cell_type": "code",
   "execution_count": 243,
   "metadata": {},
   "outputs": [
    {
     "data": {
      "image/png": "[encoded data removed]",
      "text/plain": [
       "<Figure size 432x288 with 1 Axes>"
      ]
     },
     "metadata": {
      "needs_background": "light"
     },
     "output_type": "display_data"
    }
   ],
   "source": [
    "# ploting comparison dot product of A_dot_A (A)\n",
    "\n",
    "# already created x_lengths\n",
    "AA_periods_ours = []\n",
    "AA_periods_numpy = []\n",
    "for x_len in x_lengths:\n",
    "    \n",
    "    # create matrix of same length as vector ( x_len by x_len ) matrix\n",
    "    \n",
    "    shape = x_len,x_len # shape of matrix, x_len by x_len matrix\n",
    "    row_len, col_len = np.indices(shape) # rows and column indices\n",
    "    A = ((37.1*(row_len+1) + 91.7*(col_len+1)**2)%20.0)-10.0 # how every element will be calculated using the indices\n",
    "    \n",
    "    \n",
    "    # our custom AA duration\n",
    "    init = time.time()\n",
    "    b = A_dot_A (A)\n",
    "    duration = time.time() - init\n",
    "    \n",
    "    AA_periods_ours.append(duration)\n",
    "    \n",
    "    # numpy's AA duration\n",
    "    init = time.time()\n",
    "    b = A.dot(A)\n",
    "    duration = time.time() - init\n",
    "    \n",
    "    AA_periods_numpy.append(duration)\n",
    "\n",
    "plt.plot(x_lengths, AA_periods_ours, \".\", AA_periods_numpy, \".\")\n",
    "plt.xlabel('Matrix size nxn')\n",
    "plt.ylabel('A dot A execution time (s)')\n",
    "plt.show()"
   ]
  },
  {
   "cell_type": "code",
   "execution_count": 244,
   "metadata": {},
   "outputs": [
    {
     "data": {
      "image/png": "[encoded data removed]",
      "text/plain": [
       "<Figure size 432x288 with 1 Axes>"
      ]
     },
     "metadata": {
      "needs_background": "light"
     },
     "output_type": "display_data"
    }
   ],
   "source": [
    "# ploting comparison dot product of x_dot_A_dot_x (A,x)\n",
    "\n",
    "# already created x_lengths\n",
    "xAx_periods_ours = []\n",
    "xAx_periods_numpy = []\n",
    "for x_len in x_lengths:\n",
    "    # create vector\n",
    "    vect = np.arange(1,x_len+1)\n",
    "    \n",
    "    # create matrix of same length as vector ( x_len by x_len ) matrix\n",
    "    shape = x_len,x_len # shape of matrix, x_len by x_len matrix\n",
    "    row_len, col_len = np.indices(shape) # rows and column indices\n",
    "    A = ((37.1*(row_len+1) + 91.7*(col_len+1)**2)%20.0)-10.0 # how every element will be calculated using the indices\n",
    "    \n",
    "    \n",
    "    # our custom xAx duration\n",
    "    init = time.time()\n",
    "    b = x_dot_A_dot_x(A,vect)\n",
    "    duration = time.time() - init\n",
    "    \n",
    "    xAx_periods_ours.append(duration)\n",
    "    \n",
    "    # numpy's xAx duration\n",
    "    init = time.time()\n",
    "    b = vect.dot(A.dot(vect))\n",
    "    duration = time.time() - init\n",
    "    \n",
    "    xAx_periods_numpy.append(duration)\n",
    "\n",
    "plt.plot(x_lengths, xAx_periods_ours, \".\", xAx_periods_numpy, \".\")\n",
    "plt.xlabel('Vector length 1xn')\n",
    "plt.ylabel('x dot A dot x execution time (s)')\n",
    "plt.show()"
   ]
  },
  {
   "cell_type": "markdown",
   "metadata": {
    "deletable": false,
    "editable": false,
    "nbgrader": {
     "cell_type": "markdown",
     "checksum": "6fcbc77640620aec4e102771a845d33a",
     "grade": false,
     "grade_id": "plot",
     "locked": true,
     "points": 4,
     "schema_version": 3,
     "solution": false,
     "task": true
    }
   },
   "source": [
    "Present your results in a clear and understandable form. Make sure all features you refer to in the discussion below can easily be identified."
   ]
  },
  {
   "cell_type": "markdown",
   "metadata": {
    "deletable": false,
    "editable": false,
    "nbgrader": {
     "cell_type": "markdown",
     "checksum": "6ef28746d0a62327adf8e4b0dceea4ce",
     "grade": false,
     "grade_id": "cell-9426f551835fde5f",
     "locked": true,
     "schema_version": 3,
     "solution": false,
     "task": false
    }
   },
   "source": [
    "## Interpretation (7 points)\n",
    "\n",
    "Base your answers to the following questions on your implementation and measurements above. Explain your reasoning. Refer to the plot(s) and other results where appropriate."
   ]
  },
  {
   "cell_type": "markdown",
   "metadata": {
    "deletable": false,
    "editable": false,
    "nbgrader": {
     "cell_type": "markdown",
     "checksum": "01d9ffe682f1a4b313da3f8002ad95cf",
     "grade": false,
     "grade_id": "cell-fef22c7d41851dad",
     "locked": true,
     "schema_version": 3,
     "solution": false,
     "task": false
    }
   },
   "source": [
    "How do the runtimes of the implementation in pure Python and numpy compare? Can you explain the differences?"
   ]
  },
  {
   "cell_type": "markdown",
   "metadata": {
    "deletable": false,
    "nbgrader": {
     "cell_type": "markdown",
     "checksum": "0510446b24b6a623ee9b93c1f9fd9dd3",
     "grade": true,
     "grade_id": "runtime",
     "locked": false,
     "points": 2,
     "schema_version": 3,
     "solution": true,
     "task": false
    }
   },
   "source": [
    "YOUR ANSWER HERE"
   ]
  },
  {
   "cell_type": "markdown",
   "metadata": {
    "deletable": false,
    "editable": false,
    "nbgrader": {
     "cell_type": "markdown",
     "checksum": "d89e454737c85c59c2fb59f5eda4d9aa",
     "grade": false,
     "grade_id": "cell-4667c5ac3e2086b3",
     "locked": true,
     "schema_version": 3,
     "solution": false,
     "task": false
    }
   },
   "source": [
    "Based on the plot(s) from the previous part, compare the computational complexity of the different matrix operations. Do the results agree with your expectations?"
   ]
  },
  {
   "cell_type": "markdown",
   "metadata": {
    "deletable": false,
    "nbgrader": {
     "cell_type": "markdown",
     "checksum": "4366828811311bfca885e4b630020b4a",
     "grade": true,
     "grade_id": "complexity",
     "locked": false,
     "points": 2,
     "schema_version": 3,
     "solution": true,
     "task": false
    }
   },
   "source": [
    "YOUR ANSWER HERE"
   ]
  },
  {
   "cell_type": "markdown",
   "metadata": {
    "deletable": false,
    "editable": false,
    "nbgrader": {
     "cell_type": "markdown",
     "checksum": "39a3d215c1e98fc116b390247ac6d56b",
     "grade": false,
     "grade_id": "cell-5001975bb97f0a0a",
     "locked": true,
     "schema_version": 3,
     "solution": false,
     "task": false
    }
   },
   "source": [
    "How many floating point operations per second do the algorithms achieve? It is sufficient to quote a few examples.\n",
    "\n",
    "On which hardware did you execute the tests? Are your results in line with the FLOPS of your computer?"
   ]
  },
  {
   "cell_type": "markdown",
   "metadata": {
    "deletable": false,
    "nbgrader": {
     "cell_type": "markdown",
     "checksum": "8963c151115a0b08452108709af3da05",
     "grade": true,
     "grade_id": "cell-d44a100733e0da26",
     "locked": false,
     "points": 3,
     "schema_version": 3,
     "solution": true,
     "task": false
    }
   },
   "source": [
    "YOUR ANSWER HERE"
   ]
  }
 ],
 "metadata": {
  "kernelspec": {
   "display_name": "Python 3",
   "language": "python",
   "name": "python3"
  },
  "language_info": {
   "codemirror_mode": {
    "name": "ipython",
    "version": 3
   },
   "file_extension": ".py",
   "mimetype": "text/x-python",
   "name": "python",
   "nbconvert_exporter": "python",
   "pygments_lexer": "ipython3",
   "version": "3.7.3"
  }
 },
 "nbformat": 4,
 "nbformat_minor": 5
}
